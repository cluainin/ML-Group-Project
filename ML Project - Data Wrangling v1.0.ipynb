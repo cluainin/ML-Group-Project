{
 "cells": [
  {
   "cell_type": "markdown",
   "id": "a8f4f1cc",
   "metadata": {},
   "source": [
    "# ML Project - Data Wrangling v1.0"
   ]
  },
  {
   "cell_type": "code",
   "execution_count": null,
   "id": "ce43daa1",
   "metadata": {},
   "outputs": [],
   "source": [
    "#import libraries and datasets\n",
    "\n",
    "import pandas as pd\n",
    "\n",
    "#opel datasets with added columns for car type and dataset\n",
    "\n",
    "opel_corsa_01 = pd.read_csv(\"ml_project\\opel_corsa_01.csv\", sep = ';')\n",
    "opel_corsa_01[\"Car\"] = \"opel\"\n",
    "opel_corsa_01[\"Journey\"] = 1\n",
    "\n",
    "opel_corsa_02 = pd.read_csv(\"ml_project\\opel_corsa_02.csv\", sep = ';')\n",
    "opel_corsa_02[\"Car\"] = \"opel\"\n",
    "opel_corsa_02[\"Journey\"] = 2\n",
    "\n",
    "#peugeot datasets with added columns for car type and dataset\n",
    "\n",
    "peugeot_207_01 = pd.read_csv(\"ml_project\\peugeot_207_01.csv\", sep = ';')\n",
    "peugeot_207_01[\"Car\"] = \"peugeot\"\n",
    "peugeot_207_01[\"Journey\"] = 3\n",
    "\n",
    "peugeot_207_02 = pd.read_csv(\"ml_project\\peugeot_207_02.csv\", sep = ';')\n",
    "peugeot_207_02[\"Car\"] = \"peugeot\"\n",
    "peugeot_207_02[\"Journey\"] = 4\n",
    "\n",
    "#combine all datasets into one dataset\n",
    "\n",
    "dataset = [opel_corsa_01, opel_corsa_02, peugeot_207_01, peugeot_207_02]\n",
    "\n",
    "combined = pd.concat(dataset)\n",
    "\n",
    "combined"
   ]
  },
  {
   "cell_type": "code",
   "execution_count": null,
   "id": "7dbbc5d7",
   "metadata": {},
   "outputs": [],
   "source": [
    "#count the number of rows with zero values\n",
    "\n",
    "combined.isna().sum()"
   ]
  },
  {
   "cell_type": "code",
   "execution_count": null,
   "id": "d8268f41",
   "metadata": {},
   "outputs": [],
   "source": [
    "combined.tail()"
   ]
  },
  {
   "cell_type": "code",
   "execution_count": null,
   "id": "1caea432",
   "metadata": {},
   "outputs": [],
   "source": [
    "#get the percentages of NaNs per feature\n",
    "\n",
    "100 * combined.isnull().sum() / len(combined)"
   ]
  },
  {
   "cell_type": "code",
   "execution_count": null,
   "id": "ea89f194",
   "metadata": {},
   "outputs": [],
   "source": [
    "import seaborn as sns\n",
    "import matplotlib.pyplot as plt"
   ]
  },
  {
   "cell_type": "code",
   "execution_count": null,
   "id": "e1f470fa",
   "metadata": {},
   "outputs": [],
   "source": [
    "def percent_missing(combined):\n",
    "    percent_nan = 100 * combined.isnull().sum() / len(combined)\n",
    "    percent_nan = percent_nan[percent_nan > 0].sort_values()\n",
    "    \n",
    "    return percent_nan"
   ]
  },
  {
   "cell_type": "code",
   "execution_count": null,
   "id": "f65d8b39",
   "metadata": {},
   "outputs": [],
   "source": [
    "percent_nan = percent_missing(combined)"
   ]
  },
  {
   "cell_type": "code",
   "execution_count": null,
   "id": "154deae6",
   "metadata": {},
   "outputs": [],
   "source": [
    "percent_nan"
   ]
  },
  {
   "cell_type": "code",
   "execution_count": null,
   "id": "8e23a067",
   "metadata": {
    "scrolled": false
   },
   "outputs": [],
   "source": [
    "#plt.figure(figsize=(8,4), dpi=200)\n",
    "sns.barplot(x=percent_nan.index,y=percent_nan)\n",
    "plt.xticks(rotation=90);\n",
    "plt.ylim(0,5) #maximum % limit to 5%"
   ]
  },
  {
   "cell_type": "code",
   "execution_count": null,
   "id": "5e91e271",
   "metadata": {},
   "outputs": [],
   "source": [
    "#show all records with < 1% NaNs\n",
    "\n",
    "percent_nan[percent_nan< 1]"
   ]
  },
  {
   "cell_type": "code",
   "execution_count": null,
   "id": "b23a0305",
   "metadata": {},
   "outputs": [],
   "source": [
    "100/len(combined) #1 row percent in the dataframe"
   ]
  },
  {
   "cell_type": "code",
   "execution_count": null,
   "id": "eed8bb1a",
   "metadata": {},
   "outputs": [],
   "source": [
    "#check how many rows for EngineLoad have data missing\n",
    "\n",
    "combined[combined['EngineLoad'].isnull()]"
   ]
  },
  {
   "cell_type": "code",
   "execution_count": null,
   "id": "5250f2fd",
   "metadata": {},
   "outputs": [],
   "source": [
    "combined[combined['EngineLoad'].isnull()]['EngineCoolantTemperature']"
   ]
  },
  {
   "cell_type": "code",
   "execution_count": null,
   "id": "c52a1b12",
   "metadata": {},
   "outputs": [],
   "source": [
    "combined[combined['EngineLoad'].isnull()]['ManifoldAbsolutePressure']"
   ]
  },
  {
   "cell_type": "code",
   "execution_count": null,
   "id": "d4154a4f",
   "metadata": {},
   "outputs": [],
   "source": [
    "combined[combined['EngineLoad'].isnull()]['EngineRPM']"
   ]
  },
  {
   "cell_type": "code",
   "execution_count": null,
   "id": "24b4199e",
   "metadata": {},
   "outputs": [],
   "source": [
    "combined[combined['EngineLoad'].isnull()]['MassAirFlow']"
   ]
  },
  {
   "cell_type": "code",
   "execution_count": null,
   "id": "56d5a4d0",
   "metadata": {},
   "outputs": [],
   "source": [
    "combined[combined['EngineLoad'].isnull()]['IntakeAirTemperature']"
   ]
  },
  {
   "cell_type": "code",
   "execution_count": null,
   "id": "7f690c43",
   "metadata": {},
   "outputs": [],
   "source": [
    "#so we have confirmation the following features with NaNs have matching rows\n",
    "#EngineLoad, EngineeCoolantTemperature, ManifoldAbsolutePressure, EngineRPM, MassAirFlow, IntakeAirTemperature\n",
    "#this equates to 5 rows out of 24957 records, in % terms is 0.02% of records\n",
    "#therefore I recommend removing these records from dataset since they are low quantity\n",
    "\n"
   ]
  },
  {
   "cell_type": "code",
   "execution_count": null,
   "id": "6ee3b324",
   "metadata": {},
   "outputs": [],
   "source": [
    "#remove NaN rows for the features above\n",
    "\n",
    "combined = combined.dropna(axis=0,subset=['EngineLoad', 'EngineCoolantTemperature', 'ManifoldAbsolutePressure', 'EngineRPM', 'MassAirFlow', 'IntakeAirTemperature'])"
   ]
  },
  {
   "cell_type": "code",
   "execution_count": null,
   "id": "bb761ad7",
   "metadata": {},
   "outputs": [],
   "source": [
    "#check NaNs after drop above\n",
    "\n",
    "combined.isna().sum()"
   ]
  },
  {
   "cell_type": "code",
   "execution_count": null,
   "id": "9b4ef222",
   "metadata": {},
   "outputs": [],
   "source": [
    "#run function again after NaNs removed\n",
    "\n",
    "percent_nan = percent_missing(combined)"
   ]
  },
  {
   "cell_type": "code",
   "execution_count": null,
   "id": "a6870c12",
   "metadata": {},
   "outputs": [],
   "source": [
    "#run function again after NaNs removed\n",
    "\n",
    "percent_nan = percent_missing(combined)"
   ]
  },
  {
   "cell_type": "code",
   "execution_count": null,
   "id": "c44a0020",
   "metadata": {},
   "outputs": [],
   "source": [
    "#check the number of features with < 5% \n",
    "\n",
    "percent_nan[percent_nan < 5]"
   ]
  },
  {
   "cell_type": "code",
   "execution_count": null,
   "id": "74c00f6e",
   "metadata": {},
   "outputs": [],
   "source": [
    "#review graphically the remaining features with NaNs\n",
    "\n",
    "sns.barplot(x=percent_nan.index,y=percent_nan)\n",
    "plt.xticks(rotation=90);\n",
    "plt.ylim(0,1) #1% or less is 3 features"
   ]
  },
  {
   "cell_type": "code",
   "execution_count": null,
   "id": "3b9a1ddf",
   "metadata": {},
   "outputs": [],
   "source": [
    "#carry out row check for the remaining features less than 1% of records with NaNs\n",
    "combined[combined['VehicleSpeedInstantaneous'].isnull()]\n",
    "\n",
    "#there are 43 rows containing NaNs for VehicleSpeedInstanteous"
   ]
  },
  {
   "cell_type": "code",
   "execution_count": null,
   "id": "53419e52",
   "metadata": {},
   "outputs": [],
   "source": [
    "# compare if VehicleSpeedInstantaneous has matching NaNs for AltitudeVariation \n",
    "combined[combined['VehicleSpeedInstantaneous'].isnull()]['AltitudeVariation']\n",
    "#several rows (15) contain values for AltitudeVariation  "
   ]
  },
  {
   "cell_type": "code",
   "execution_count": null,
   "id": "29e4e34b",
   "metadata": {},
   "outputs": [],
   "source": [
    "# compare if VehicleSpeedInstantaneous has matching NaNs for VehicleSpeedVariation \n",
    "combined[combined['VehicleSpeedInstantaneous'].isnull()]['VehicleSpeedVariation']\n",
    "#several rows (10) contain values for VehicleSpeedVariation\n",
    "\n",
    "#some values contain '0' values so I propose using 0 instead of the NaNs for VehicleSpeedInstanteous\n",
    "#the zero value could be interpreted that the vehicle was not moving"
   ]
  },
  {
   "cell_type": "code",
   "execution_count": null,
   "id": "5f2939a0",
   "metadata": {},
   "outputs": [],
   "source": [
    "# compare if VehicleSpeedInstantaneous has matching NaNs for VehicleSpeedAverage to proof it the car was moving when NaN was\n",
    "#recorded for VehicleSpeedInstantaneous\n",
    "combined[combined['VehicleSpeedInstantaneous'].isnull()]['FuelConsumptionAverage'],['VehicleSpeedAverage']\n",
    "# 8 rows contain values for VehicleSpeedAverage when VehicleSpeedInstantaneous was NaN. So I propose dropping all rows\n",
    "# where VehicleSpeedInstantaneous is NaN as logically if there is SpeedAverage reading there should be a\n",
    "#vehicleSpeedInstantaneous reading as well\n",
    "#also a low number of VehicleSpeedAverage rows (8) woud be removed, so little impact on dataset behaviour"
   ]
  },
  {
   "cell_type": "code",
   "execution_count": null,
   "id": "a1b38ff4",
   "metadata": {},
   "outputs": [],
   "source": [
    "#reviewing the data the vehicleSpeedAverage has several values of NaNs i.e. the car was not moving, \n",
    "#and 8 with values which could be interpreted that the was one change in speed when measurement taken.\n",
    "#therefore I propose setting these VehicleSpeenInstaneous values to 0\n",
    "\n",
    "combined[combined['VehicleSpeedInstantaneous'].isnull()]['VehicleSpeedAverage']"
   ]
  },
  {
   "cell_type": "code",
   "execution_count": null,
   "id": "7dfdbf1f",
   "metadata": {},
   "outputs": [],
   "source": [
    "combined[combined['AltitudeVariation'].isnull()]['VehicleSpeedVariation']\n",
    "\n",
    "#so it appears that there is a correlation between NaNs for AltitudeVariation & VehicleSpeedVariation"
   ]
  },
  {
   "cell_type": "code",
   "execution_count": null,
   "id": "23a9b739",
   "metadata": {},
   "outputs": [],
   "source": [
    "#rather than remove the AltitudeVariation rows with NaN. I propose we replace NaN with 0. The assumption is if there is no\n",
    "#altitude change no value is recorded\n",
    "#use the same logic for Vehicle Speed Variation.\n",
    "\n",
    "\n",
    "# Numeric columns --> fillna with 0\n",
    "\n",
    "replace_with_zero = ['AltitudeVariation','VehicleSpeedVariation','VehicleSpeedInstantaneous']\n",
    "\n",
    "combined[replace_with_zero] = combined[replace_with_zero].fillna(0)\n",
    "\n"
   ]
  },
  {
   "cell_type": "code",
   "execution_count": null,
   "id": "5c9942a7",
   "metadata": {},
   "outputs": [],
   "source": [
    "#check if how many NaNs remain after the zero applied\n",
    "\n",
    "percent_nan = percent_missing(combined)\n",
    "\n",
    "#plt.figure(figsize=(8,4),dpi=200)\n",
    "sns.barplot(x=percent_nan.index,y=percent_nan)\n",
    "plt.xticks(rotation=90)\n",
    "plt.ylim(0,5)"
   ]
  },
  {
   "cell_type": "code",
   "execution_count": null,
   "id": "ffe581d1",
   "metadata": {},
   "outputs": [],
   "source": [
    "#assess the FuelConsumptionAverage feature\n",
    "combined[combined['FuelConsumptionAverage'].isnull()]\n"
   ]
  },
  {
   "cell_type": "code",
   "execution_count": null,
   "id": "01214441",
   "metadata": {},
   "outputs": [],
   "source": [
    "#assess the FuelConsumptionAverage feature and VehicleSpeedAverage\n",
    "combined[combined['FuelConsumptionAverage'].isnull()]['VehicleSpeedAverage']\n",
    "#if there is no fuel consumed and no values for vehicle Speed average, I propose that the vehicle was not in use and these rows\n",
    "#can be removed"
   ]
  },
  {
   "cell_type": "code",
   "execution_count": null,
   "id": "0eb37644",
   "metadata": {},
   "outputs": [],
   "source": [
    "combined[combined['FuelConsumptionAverage'].isnull()]['VehicleSpeedVariance']\n",
    "#like the last assessment there is no fuel consumed and no values for vehicle Speed variance, I propose that the vehicle \n",
    "#was not in use and these rows can be removed"
   ]
  },
  {
   "cell_type": "code",
   "execution_count": null,
   "id": "6093f62e",
   "metadata": {},
   "outputs": [],
   "source": [
    "#removing the features with NaNs based on the above code results  (281 rows)\n",
    "combined = combined.dropna(axis=0,subset=['FuelConsumptionAverage','VehicleSpeedAverage'])"
   ]
  },
  {
   "cell_type": "code",
   "execution_count": null,
   "id": "b5c3904e",
   "metadata": {},
   "outputs": [],
   "source": [
    "#check if how many NaNs remain after the NaNs removed\n",
    "\n",
    "percent_nan = percent_missing(combined)\n"
   ]
  },
  {
   "cell_type": "code",
   "execution_count": null,
   "id": "d6fb861b",
   "metadata": {},
   "outputs": [],
   "source": [
    "percent_nan"
   ]
  },
  {
   "cell_type": "code",
   "execution_count": null,
   "id": "d8644362",
   "metadata": {},
   "outputs": [],
   "source": [
    "#final check if there any remaining NaNs\n",
    "\n",
    "combined.isna().sum()"
   ]
  },
  {
   "cell_type": "code",
   "execution_count": null,
   "id": "7e950a63",
   "metadata": {},
   "outputs": [],
   "source": [
    "#reset the dataframe index\n",
    "\n",
    "combined= combined.reset_index(drop=True)"
   ]
  },
  {
   "cell_type": "code",
   "execution_count": null,
   "id": "3e4bdd7a",
   "metadata": {},
   "outputs": [],
   "source": [
    "\n",
    "combined.shape"
   ]
  },
  {
   "cell_type": "code",
   "execution_count": null,
   "id": "816098fb",
   "metadata": {},
   "outputs": [],
   "source": [
    "##Next step is to convert string values into numeric values\n",
    "\n"
   ]
  }
 ],
 "metadata": {
  "kernelspec": {
   "display_name": "Python 3 (ipykernel)",
   "language": "python",
   "name": "python3"
  },
  "language_info": {
   "codemirror_mode": {
    "name": "ipython",
    "version": 3
   },
   "file_extension": ".py",
   "mimetype": "text/x-python",
   "name": "python",
   "nbconvert_exporter": "python",
   "pygments_lexer": "ipython3",
   "version": "3.10.9"
  }
 },
 "nbformat": 4,
 "nbformat_minor": 5
}
