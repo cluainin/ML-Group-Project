{
 "cells": [
  {
   "cell_type": "markdown",
   "id": "34231ee3",
   "metadata": {},
   "source": [
    "### SVM Modelling"
   ]
  },
  {
   "cell_type": "code",
   "execution_count": 134,
   "id": "f6f33492",
   "metadata": {},
   "outputs": [],
   "source": [
    "from sklearn.svm import SVC"
   ]
  },
  {
   "cell_type": "code",
   "execution_count": 135,
   "id": "7ff5dbe6",
   "metadata": {},
   "outputs": [],
   "source": [
    "model = SVC()"
   ]
  },
  {
   "cell_type": "code",
   "execution_count": 136,
   "id": "70995f82",
   "metadata": {},
   "outputs": [
    {
     "data": {
      "text/html": [
       "<style>#sk-container-id-2 {color: black;}#sk-container-id-2 pre{padding: 0;}#sk-container-id-2 div.sk-toggleable {background-color: white;}#sk-container-id-2 label.sk-toggleable__label {cursor: pointer;display: block;width: 100%;margin-bottom: 0;padding: 0.3em;box-sizing: border-box;text-align: center;}#sk-container-id-2 label.sk-toggleable__label-arrow:before {content: \"▸\";float: left;margin-right: 0.25em;color: #696969;}#sk-container-id-2 label.sk-toggleable__label-arrow:hover:before {color: black;}#sk-container-id-2 div.sk-estimator:hover label.sk-toggleable__label-arrow:before {color: black;}#sk-container-id-2 div.sk-toggleable__content {max-height: 0;max-width: 0;overflow: hidden;text-align: left;background-color: #f0f8ff;}#sk-container-id-2 div.sk-toggleable__content pre {margin: 0.2em;color: black;border-radius: 0.25em;background-color: #f0f8ff;}#sk-container-id-2 input.sk-toggleable__control:checked~div.sk-toggleable__content {max-height: 200px;max-width: 100%;overflow: auto;}#sk-container-id-2 input.sk-toggleable__control:checked~label.sk-toggleable__label-arrow:before {content: \"▾\";}#sk-container-id-2 div.sk-estimator input.sk-toggleable__control:checked~label.sk-toggleable__label {background-color: #d4ebff;}#sk-container-id-2 div.sk-label input.sk-toggleable__control:checked~label.sk-toggleable__label {background-color: #d4ebff;}#sk-container-id-2 input.sk-hidden--visually {border: 0;clip: rect(1px 1px 1px 1px);clip: rect(1px, 1px, 1px, 1px);height: 1px;margin: -1px;overflow: hidden;padding: 0;position: absolute;width: 1px;}#sk-container-id-2 div.sk-estimator {font-family: monospace;background-color: #f0f8ff;border: 1px dotted black;border-radius: 0.25em;box-sizing: border-box;margin-bottom: 0.5em;}#sk-container-id-2 div.sk-estimator:hover {background-color: #d4ebff;}#sk-container-id-2 div.sk-parallel-item::after {content: \"\";width: 100%;border-bottom: 1px solid gray;flex-grow: 1;}#sk-container-id-2 div.sk-label:hover label.sk-toggleable__label {background-color: #d4ebff;}#sk-container-id-2 div.sk-serial::before {content: \"\";position: absolute;border-left: 1px solid gray;box-sizing: border-box;top: 0;bottom: 0;left: 50%;z-index: 0;}#sk-container-id-2 div.sk-serial {display: flex;flex-direction: column;align-items: center;background-color: white;padding-right: 0.2em;padding-left: 0.2em;position: relative;}#sk-container-id-2 div.sk-item {position: relative;z-index: 1;}#sk-container-id-2 div.sk-parallel {display: flex;align-items: stretch;justify-content: center;background-color: white;position: relative;}#sk-container-id-2 div.sk-item::before, #sk-container-id-2 div.sk-parallel-item::before {content: \"\";position: absolute;border-left: 1px solid gray;box-sizing: border-box;top: 0;bottom: 0;left: 50%;z-index: -1;}#sk-container-id-2 div.sk-parallel-item {display: flex;flex-direction: column;z-index: 1;position: relative;background-color: white;}#sk-container-id-2 div.sk-parallel-item:first-child::after {align-self: flex-end;width: 50%;}#sk-container-id-2 div.sk-parallel-item:last-child::after {align-self: flex-start;width: 50%;}#sk-container-id-2 div.sk-parallel-item:only-child::after {width: 0;}#sk-container-id-2 div.sk-dashed-wrapped {border: 1px dashed gray;margin: 0 0.4em 0.5em 0.4em;box-sizing: border-box;padding-bottom: 0.4em;background-color: white;}#sk-container-id-2 div.sk-label label {font-family: monospace;font-weight: bold;display: inline-block;line-height: 1.2em;}#sk-container-id-2 div.sk-label-container {text-align: center;}#sk-container-id-2 div.sk-container {/* jupyter's `normalize.less` sets `[hidden] { display: none; }` but bootstrap.min.css set `[hidden] { display: none !important; }` so we also need the `!important` here to be able to override the default hidden behavior on the sphinx rendered scikit-learn.org. See: https://github.com/scikit-learn/scikit-learn/issues/21755 */display: inline-block !important;position: relative;}#sk-container-id-2 div.sk-text-repr-fallback {display: none;}</style><div id=\"sk-container-id-2\" class=\"sk-top-container\"><div class=\"sk-text-repr-fallback\"><pre>SVC()</pre><b>In a Jupyter environment, please rerun this cell to show the HTML representation or trust the notebook. <br />On GitHub, the HTML representation is unable to render, please try loading this page with nbviewer.org.</b></div><div class=\"sk-container\" hidden><div class=\"sk-item\"><div class=\"sk-estimator sk-toggleable\"><input class=\"sk-toggleable__control sk-hidden--visually\" id=\"sk-estimator-id-2\" type=\"checkbox\" checked><label for=\"sk-estimator-id-2\" class=\"sk-toggleable__label sk-toggleable__label-arrow\">SVC</label><div class=\"sk-toggleable__content\"><pre>SVC()</pre></div></div></div></div></div>"
      ],
      "text/plain": [
       "SVC()"
      ]
     },
     "execution_count": 136,
     "metadata": {},
     "output_type": "execute_result"
    }
   ],
   "source": [
    "model.fit(X_train_scaled,y_train)"
   ]
  },
  {
   "cell_type": "code",
   "execution_count": 137,
   "id": "50f51b87",
   "metadata": {},
   "outputs": [],
   "source": [
    "predictions = model.predict(X_test_scaled)\n"
   ]
  },
  {
   "cell_type": "code",
   "execution_count": 138,
   "id": "c27683b7",
   "metadata": {},
   "outputs": [],
   "source": [
    "from sklearn.metrics import classification_report, confusion_matrix"
   ]
  },
  {
   "cell_type": "code",
   "execution_count": 139,
   "id": "d31c8940",
   "metadata": {
    "scrolled": true
   },
   "outputs": [
    {
     "name": "stdout",
     "output_type": "stream",
     "text": [
      "[[  33  442]\n",
      " [   9 4035]]\n",
      "\n",
      "\n",
      "              precision    recall  f1-score   support\n",
      "\n",
      "           0       0.79      0.07      0.13       475\n",
      "           1       0.90      1.00      0.95      4044\n",
      "\n",
      "    accuracy                           0.90      4519\n",
      "   macro avg       0.84      0.53      0.54      4519\n",
      "weighted avg       0.89      0.90      0.86      4519\n",
      "\n"
     ]
    }
   ],
   "source": [
    "print(confusion_matrix(y_test, predictions))\n",
    "print('\\n')\n",
    "print(classification_report(y_test, predictions))"
   ]
  },
  {
   "cell_type": "code",
   "execution_count": 140,
   "id": "b510f615",
   "metadata": {},
   "outputs": [],
   "source": [
    "#use GridSearchCV to find the best parameters to run a SVM model\n",
    "\n",
    "from sklearn.model_selection import GridSearchCV"
   ]
  },
  {
   "cell_type": "code",
   "execution_count": 141,
   "id": "29a25ca1",
   "metadata": {},
   "outputs": [],
   "source": [
    "#apply follow test parameters for C and gamma\n",
    "\n",
    "param_grid = {'C':[0.1,1,10,100,1000], 'gamma':[1,0.1,0.01,0.001,0.0001]}"
   ]
  },
  {
   "cell_type": "code",
   "execution_count": 142,
   "id": "19b026ab",
   "metadata": {},
   "outputs": [],
   "source": [
    "#creating the model\n",
    "\n",
    "grid = GridSearchCV(SVC(), param_grid,verbose=3)"
   ]
  },
  {
   "cell_type": "code",
   "execution_count": 143,
   "id": "b01cace1",
   "metadata": {},
   "outputs": [
    {
     "name": "stdout",
     "output_type": "stream",
     "text": [
      "Fitting 5 folds for each of 25 candidates, totalling 125 fits\n",
      "[CV 1/5] END ....................C=0.1, gamma=1;, score=0.888 total time=   4.1s\n",
      "[CV 2/5] END ....................C=0.1, gamma=1;, score=0.888 total time=   3.8s\n",
      "[CV 3/5] END ....................C=0.1, gamma=1;, score=0.888 total time=   3.7s\n",
      "[CV 4/5] END ....................C=0.1, gamma=1;, score=0.888 total time=   4.0s\n",
      "[CV 5/5] END ....................C=0.1, gamma=1;, score=0.888 total time=   3.9s\n",
      "[CV 1/5] END ..................C=0.1, gamma=0.1;, score=0.888 total time=   4.1s\n",
      "[CV 2/5] END ..................C=0.1, gamma=0.1;, score=0.888 total time=   3.6s\n",
      "[CV 3/5] END ..................C=0.1, gamma=0.1;, score=0.888 total time=   3.4s\n",
      "[CV 4/5] END ..................C=0.1, gamma=0.1;, score=0.888 total time=   3.3s\n",
      "[CV 5/5] END ..................C=0.1, gamma=0.1;, score=0.888 total time=   3.5s\n",
      "[CV 1/5] END .................C=0.1, gamma=0.01;, score=0.888 total time=   2.8s\n",
      "[CV 2/5] END .................C=0.1, gamma=0.01;, score=0.888 total time=   2.6s\n",
      "[CV 3/5] END .................C=0.1, gamma=0.01;, score=0.888 total time=   2.8s\n",
      "[CV 4/5] END .................C=0.1, gamma=0.01;, score=0.888 total time=   2.7s\n",
      "[CV 5/5] END .................C=0.1, gamma=0.01;, score=0.888 total time=   2.7s\n",
      "[CV 1/5] END ................C=0.1, gamma=0.001;, score=0.888 total time=   2.7s\n",
      "[CV 2/5] END ................C=0.1, gamma=0.001;, score=0.888 total time=   2.6s\n",
      "[CV 3/5] END ................C=0.1, gamma=0.001;, score=0.888 total time=   2.6s\n",
      "[CV 4/5] END ................C=0.1, gamma=0.001;, score=0.888 total time=   2.7s\n",
      "[CV 5/5] END ................C=0.1, gamma=0.001;, score=0.888 total time=   2.6s\n",
      "[CV 1/5] END ...............C=0.1, gamma=0.0001;, score=0.888 total time=   2.7s\n",
      "[CV 2/5] END ...............C=0.1, gamma=0.0001;, score=0.888 total time=   2.6s\n",
      "[CV 3/5] END ...............C=0.1, gamma=0.0001;, score=0.888 total time=   2.6s\n",
      "[CV 4/5] END ...............C=0.1, gamma=0.0001;, score=0.888 total time=   2.5s\n",
      "[CV 5/5] END ...............C=0.1, gamma=0.0001;, score=0.888 total time=   2.8s\n",
      "[CV 1/5] END ......................C=1, gamma=1;, score=0.890 total time=   4.3s\n",
      "[CV 2/5] END ......................C=1, gamma=1;, score=0.895 total time=   3.8s\n",
      "[CV 3/5] END ......................C=1, gamma=1;, score=0.895 total time=   4.0s\n",
      "[CV 4/5] END ......................C=1, gamma=1;, score=0.896 total time=   3.5s\n",
      "[CV 5/5] END ......................C=1, gamma=1;, score=0.894 total time=   3.4s\n",
      "[CV 1/5] END ....................C=1, gamma=0.1;, score=0.888 total time=   4.5s\n",
      "[CV 2/5] END ....................C=1, gamma=0.1;, score=0.888 total time=   4.5s\n",
      "[CV 3/5] END ....................C=1, gamma=0.1;, score=0.888 total time=   4.4s\n",
      "[CV 4/5] END ....................C=1, gamma=0.1;, score=0.888 total time=   4.5s\n",
      "[CV 5/5] END ....................C=1, gamma=0.1;, score=0.888 total time=   4.6s\n",
      "[CV 1/5] END ...................C=1, gamma=0.01;, score=0.888 total time=   3.1s\n",
      "[CV 2/5] END ...................C=1, gamma=0.01;, score=0.888 total time=   3.2s\n",
      "[CV 3/5] END ...................C=1, gamma=0.01;, score=0.888 total time=   3.1s\n",
      "[CV 4/5] END ...................C=1, gamma=0.01;, score=0.888 total time=   3.0s\n",
      "[CV 5/5] END ...................C=1, gamma=0.01;, score=0.888 total time=   3.0s\n",
      "[CV 1/5] END ..................C=1, gamma=0.001;, score=0.888 total time=   2.7s\n",
      "[CV 2/5] END ..................C=1, gamma=0.001;, score=0.888 total time=   3.1s\n",
      "[CV 3/5] END ..................C=1, gamma=0.001;, score=0.888 total time=   2.8s\n",
      "[CV 4/5] END ..................C=1, gamma=0.001;, score=0.888 total time=   2.8s\n",
      "[CV 5/5] END ..................C=1, gamma=0.001;, score=0.888 total time=   2.7s\n",
      "[CV 1/5] END .................C=1, gamma=0.0001;, score=0.888 total time=   2.6s\n",
      "[CV 2/5] END .................C=1, gamma=0.0001;, score=0.888 total time=   2.6s\n",
      "[CV 3/5] END .................C=1, gamma=0.0001;, score=0.888 total time=   2.6s\n",
      "[CV 4/5] END .................C=1, gamma=0.0001;, score=0.888 total time=   2.5s\n",
      "[CV 5/5] END .................C=1, gamma=0.0001;, score=0.888 total time=   2.6s\n",
      "[CV 1/5] END .....................C=10, gamma=1;, score=0.914 total time=   4.0s\n",
      "[CV 2/5] END .....................C=10, gamma=1;, score=0.916 total time=   3.9s\n",
      "[CV 3/5] END .....................C=10, gamma=1;, score=0.911 total time=   4.0s\n",
      "[CV 4/5] END .....................C=10, gamma=1;, score=0.910 total time=   3.9s\n",
      "[CV 5/5] END .....................C=10, gamma=1;, score=0.912 total time=   3.6s\n",
      "[CV 1/5] END ...................C=10, gamma=0.1;, score=0.888 total time=   4.4s\n",
      "[CV 2/5] END ...................C=10, gamma=0.1;, score=0.888 total time=   4.7s\n",
      "[CV 3/5] END ...................C=10, gamma=0.1;, score=0.888 total time=   3.8s\n",
      "[CV 4/5] END ...................C=10, gamma=0.1;, score=0.888 total time=   4.6s\n",
      "[CV 5/5] END ...................C=10, gamma=0.1;, score=0.888 total time=   4.6s\n",
      "[CV 1/5] END ..................C=10, gamma=0.01;, score=0.888 total time=   4.3s\n",
      "[CV 2/5] END ..................C=10, gamma=0.01;, score=0.888 total time=   4.4s\n",
      "[CV 3/5] END ..................C=10, gamma=0.01;, score=0.888 total time=   4.6s\n",
      "[CV 4/5] END ..................C=10, gamma=0.01;, score=0.888 total time=   4.3s\n",
      "[CV 5/5] END ..................C=10, gamma=0.01;, score=0.888 total time=   4.6s\n",
      "[CV 1/5] END .................C=10, gamma=0.001;, score=0.888 total time=   2.5s\n",
      "[CV 2/5] END .................C=10, gamma=0.001;, score=0.888 total time=   2.5s\n",
      "[CV 3/5] END .................C=10, gamma=0.001;, score=0.888 total time=   2.6s\n",
      "[CV 4/5] END .................C=10, gamma=0.001;, score=0.888 total time=   2.5s\n",
      "[CV 5/5] END .................C=10, gamma=0.001;, score=0.888 total time=   2.6s\n",
      "[CV 1/5] END ................C=10, gamma=0.0001;, score=0.888 total time=   2.6s\n",
      "[CV 2/5] END ................C=10, gamma=0.0001;, score=0.888 total time=   2.6s\n",
      "[CV 3/5] END ................C=10, gamma=0.0001;, score=0.888 total time=   2.6s\n",
      "[CV 4/5] END ................C=10, gamma=0.0001;, score=0.888 total time=   2.5s\n",
      "[CV 5/5] END ................C=10, gamma=0.0001;, score=0.888 total time=   2.4s\n",
      "[CV 1/5] END ....................C=100, gamma=1;, score=0.918 total time=   5.3s\n",
      "[CV 2/5] END ....................C=100, gamma=1;, score=0.919 total time=   6.1s\n",
      "[CV 3/5] END ....................C=100, gamma=1;, score=0.927 total time=   6.4s\n",
      "[CV 4/5] END ....................C=100, gamma=1;, score=0.919 total time=   5.5s\n",
      "[CV 5/5] END ....................C=100, gamma=1;, score=0.923 total time=   5.6s\n",
      "[CV 1/5] END ..................C=100, gamma=0.1;, score=0.889 total time=   5.1s\n",
      "[CV 2/5] END ..................C=100, gamma=0.1;, score=0.892 total time=   5.2s\n",
      "[CV 3/5] END ..................C=100, gamma=0.1;, score=0.892 total time=   5.2s\n",
      "[CV 4/5] END ..................C=100, gamma=0.1;, score=0.896 total time=   5.1s\n",
      "[CV 5/5] END ..................C=100, gamma=0.1;, score=0.894 total time=   5.4s\n",
      "[CV 1/5] END .................C=100, gamma=0.01;, score=0.888 total time=   7.3s\n",
      "[CV 2/5] END .................C=100, gamma=0.01;, score=0.888 total time=   8.2s\n",
      "[CV 3/5] END .................C=100, gamma=0.01;, score=0.888 total time=   7.2s\n",
      "[CV 4/5] END .................C=100, gamma=0.01;, score=0.888 total time=   7.3s\n",
      "[CV 5/5] END .................C=100, gamma=0.01;, score=0.888 total time=   7.8s\n",
      "[CV 1/5] END ................C=100, gamma=0.001;, score=0.888 total time=   4.4s\n",
      "[CV 2/5] END ................C=100, gamma=0.001;, score=0.888 total time=   4.4s\n",
      "[CV 3/5] END ................C=100, gamma=0.001;, score=0.888 total time=   4.6s\n",
      "[CV 4/5] END ................C=100, gamma=0.001;, score=0.888 total time=   4.4s\n",
      "[CV 5/5] END ................C=100, gamma=0.001;, score=0.888 total time=   4.8s\n",
      "[CV 1/5] END ...............C=100, gamma=0.0001;, score=0.888 total time=   2.9s\n",
      "[CV 2/5] END ...............C=100, gamma=0.0001;, score=0.888 total time=   2.9s\n",
      "[CV 3/5] END ...............C=100, gamma=0.0001;, score=0.888 total time=   2.8s\n",
      "[CV 4/5] END ...............C=100, gamma=0.0001;, score=0.888 total time=   2.8s\n",
      "[CV 5/5] END ...............C=100, gamma=0.0001;, score=0.888 total time=   2.4s\n",
      "[CV 1/5] END ...................C=1000, gamma=1;, score=0.927 total time=  11.6s\n"
     ]
    },
    {
     "name": "stdout",
     "output_type": "stream",
     "text": [
      "[CV 2/5] END ...................C=1000, gamma=1;, score=0.924 total time=  11.6s\n",
      "[CV 3/5] END ...................C=1000, gamma=1;, score=0.929 total time=  12.9s\n",
      "[CV 4/5] END ...................C=1000, gamma=1;, score=0.917 total time=  11.5s\n",
      "[CV 5/5] END ...................C=1000, gamma=1;, score=0.924 total time=  11.9s\n",
      "[CV 1/5] END .................C=1000, gamma=0.1;, score=0.904 total time=   9.5s\n",
      "[CV 2/5] END .................C=1000, gamma=0.1;, score=0.908 total time=   9.8s\n",
      "[CV 3/5] END .................C=1000, gamma=0.1;, score=0.904 total time=   9.6s\n",
      "[CV 4/5] END .................C=1000, gamma=0.1;, score=0.903 total time=   8.9s\n",
      "[CV 5/5] END .................C=1000, gamma=0.1;, score=0.904 total time=   8.7s\n",
      "[CV 1/5] END ................C=1000, gamma=0.01;, score=0.888 total time=   8.5s\n",
      "[CV 2/5] END ................C=1000, gamma=0.01;, score=0.888 total time=   9.3s\n",
      "[CV 3/5] END ................C=1000, gamma=0.01;, score=0.888 total time=   8.1s\n",
      "[CV 4/5] END ................C=1000, gamma=0.01;, score=0.888 total time=   8.6s\n",
      "[CV 5/5] END ................C=1000, gamma=0.01;, score=0.888 total time=   9.6s\n",
      "[CV 1/5] END ...............C=1000, gamma=0.001;, score=0.888 total time=  11.2s\n",
      "[CV 2/5] END ...............C=1000, gamma=0.001;, score=0.888 total time=  11.5s\n",
      "[CV 3/5] END ...............C=1000, gamma=0.001;, score=0.888 total time=  10.8s\n",
      "[CV 4/5] END ...............C=1000, gamma=0.001;, score=0.888 total time=  10.6s\n",
      "[CV 5/5] END ...............C=1000, gamma=0.001;, score=0.888 total time=  10.2s\n",
      "[CV 1/5] END ..............C=1000, gamma=0.0001;, score=0.888 total time=   6.1s\n",
      "[CV 2/5] END ..............C=1000, gamma=0.0001;, score=0.888 total time=   5.7s\n",
      "[CV 3/5] END ..............C=1000, gamma=0.0001;, score=0.888 total time=   5.6s\n",
      "[CV 4/5] END ..............C=1000, gamma=0.0001;, score=0.888 total time=   6.3s\n",
      "[CV 5/5] END ..............C=1000, gamma=0.0001;, score=0.888 total time=   6.7s\n"
     ]
    },
    {
     "data": {
      "text/html": [
       "<style>#sk-container-id-3 {color: black;}#sk-container-id-3 pre{padding: 0;}#sk-container-id-3 div.sk-toggleable {background-color: white;}#sk-container-id-3 label.sk-toggleable__label {cursor: pointer;display: block;width: 100%;margin-bottom: 0;padding: 0.3em;box-sizing: border-box;text-align: center;}#sk-container-id-3 label.sk-toggleable__label-arrow:before {content: \"▸\";float: left;margin-right: 0.25em;color: #696969;}#sk-container-id-3 label.sk-toggleable__label-arrow:hover:before {color: black;}#sk-container-id-3 div.sk-estimator:hover label.sk-toggleable__label-arrow:before {color: black;}#sk-container-id-3 div.sk-toggleable__content {max-height: 0;max-width: 0;overflow: hidden;text-align: left;background-color: #f0f8ff;}#sk-container-id-3 div.sk-toggleable__content pre {margin: 0.2em;color: black;border-radius: 0.25em;background-color: #f0f8ff;}#sk-container-id-3 input.sk-toggleable__control:checked~div.sk-toggleable__content {max-height: 200px;max-width: 100%;overflow: auto;}#sk-container-id-3 input.sk-toggleable__control:checked~label.sk-toggleable__label-arrow:before {content: \"▾\";}#sk-container-id-3 div.sk-estimator input.sk-toggleable__control:checked~label.sk-toggleable__label {background-color: #d4ebff;}#sk-container-id-3 div.sk-label input.sk-toggleable__control:checked~label.sk-toggleable__label {background-color: #d4ebff;}#sk-container-id-3 input.sk-hidden--visually {border: 0;clip: rect(1px 1px 1px 1px);clip: rect(1px, 1px, 1px, 1px);height: 1px;margin: -1px;overflow: hidden;padding: 0;position: absolute;width: 1px;}#sk-container-id-3 div.sk-estimator {font-family: monospace;background-color: #f0f8ff;border: 1px dotted black;border-radius: 0.25em;box-sizing: border-box;margin-bottom: 0.5em;}#sk-container-id-3 div.sk-estimator:hover {background-color: #d4ebff;}#sk-container-id-3 div.sk-parallel-item::after {content: \"\";width: 100%;border-bottom: 1px solid gray;flex-grow: 1;}#sk-container-id-3 div.sk-label:hover label.sk-toggleable__label {background-color: #d4ebff;}#sk-container-id-3 div.sk-serial::before {content: \"\";position: absolute;border-left: 1px solid gray;box-sizing: border-box;top: 0;bottom: 0;left: 50%;z-index: 0;}#sk-container-id-3 div.sk-serial {display: flex;flex-direction: column;align-items: center;background-color: white;padding-right: 0.2em;padding-left: 0.2em;position: relative;}#sk-container-id-3 div.sk-item {position: relative;z-index: 1;}#sk-container-id-3 div.sk-parallel {display: flex;align-items: stretch;justify-content: center;background-color: white;position: relative;}#sk-container-id-3 div.sk-item::before, #sk-container-id-3 div.sk-parallel-item::before {content: \"\";position: absolute;border-left: 1px solid gray;box-sizing: border-box;top: 0;bottom: 0;left: 50%;z-index: -1;}#sk-container-id-3 div.sk-parallel-item {display: flex;flex-direction: column;z-index: 1;position: relative;background-color: white;}#sk-container-id-3 div.sk-parallel-item:first-child::after {align-self: flex-end;width: 50%;}#sk-container-id-3 div.sk-parallel-item:last-child::after {align-self: flex-start;width: 50%;}#sk-container-id-3 div.sk-parallel-item:only-child::after {width: 0;}#sk-container-id-3 div.sk-dashed-wrapped {border: 1px dashed gray;margin: 0 0.4em 0.5em 0.4em;box-sizing: border-box;padding-bottom: 0.4em;background-color: white;}#sk-container-id-3 div.sk-label label {font-family: monospace;font-weight: bold;display: inline-block;line-height: 1.2em;}#sk-container-id-3 div.sk-label-container {text-align: center;}#sk-container-id-3 div.sk-container {/* jupyter's `normalize.less` sets `[hidden] { display: none; }` but bootstrap.min.css set `[hidden] { display: none !important; }` so we also need the `!important` here to be able to override the default hidden behavior on the sphinx rendered scikit-learn.org. See: https://github.com/scikit-learn/scikit-learn/issues/21755 */display: inline-block !important;position: relative;}#sk-container-id-3 div.sk-text-repr-fallback {display: none;}</style><div id=\"sk-container-id-3\" class=\"sk-top-container\"><div class=\"sk-text-repr-fallback\"><pre>GridSearchCV(estimator=SVC(),\n",
       "             param_grid={&#x27;C&#x27;: [0.1, 1, 10, 100, 1000],\n",
       "                         &#x27;gamma&#x27;: [1, 0.1, 0.01, 0.001, 0.0001]},\n",
       "             verbose=3)</pre><b>In a Jupyter environment, please rerun this cell to show the HTML representation or trust the notebook. <br />On GitHub, the HTML representation is unable to render, please try loading this page with nbviewer.org.</b></div><div class=\"sk-container\" hidden><div class=\"sk-item sk-dashed-wrapped\"><div class=\"sk-label-container\"><div class=\"sk-label sk-toggleable\"><input class=\"sk-toggleable__control sk-hidden--visually\" id=\"sk-estimator-id-3\" type=\"checkbox\" ><label for=\"sk-estimator-id-3\" class=\"sk-toggleable__label sk-toggleable__label-arrow\">GridSearchCV</label><div class=\"sk-toggleable__content\"><pre>GridSearchCV(estimator=SVC(),\n",
       "             param_grid={&#x27;C&#x27;: [0.1, 1, 10, 100, 1000],\n",
       "                         &#x27;gamma&#x27;: [1, 0.1, 0.01, 0.001, 0.0001]},\n",
       "             verbose=3)</pre></div></div></div><div class=\"sk-parallel\"><div class=\"sk-parallel-item\"><div class=\"sk-item\"><div class=\"sk-label-container\"><div class=\"sk-label sk-toggleable\"><input class=\"sk-toggleable__control sk-hidden--visually\" id=\"sk-estimator-id-4\" type=\"checkbox\" ><label for=\"sk-estimator-id-4\" class=\"sk-toggleable__label sk-toggleable__label-arrow\">estimator: SVC</label><div class=\"sk-toggleable__content\"><pre>SVC()</pre></div></div></div><div class=\"sk-serial\"><div class=\"sk-item\"><div class=\"sk-estimator sk-toggleable\"><input class=\"sk-toggleable__control sk-hidden--visually\" id=\"sk-estimator-id-5\" type=\"checkbox\" ><label for=\"sk-estimator-id-5\" class=\"sk-toggleable__label sk-toggleable__label-arrow\">SVC</label><div class=\"sk-toggleable__content\"><pre>SVC()</pre></div></div></div></div></div></div></div></div></div></div>"
      ],
      "text/plain": [
       "GridSearchCV(estimator=SVC(),\n",
       "             param_grid={'C': [0.1, 1, 10, 100, 1000],\n",
       "                         'gamma': [1, 0.1, 0.01, 0.001, 0.0001]},\n",
       "             verbose=3)"
      ]
     },
     "execution_count": 143,
     "metadata": {},
     "output_type": "execute_result"
    }
   ],
   "source": [
    "#process the various parameters using GridSearchCV\n",
    "\n",
    "grid.fit(X_train_scaled,y_train)"
   ]
  },
  {
   "cell_type": "code",
   "execution_count": 144,
   "id": "8a87a427",
   "metadata": {},
   "outputs": [
    {
     "data": {
      "text/plain": [
       "{'C': 1000, 'gamma': 1}"
      ]
     },
     "execution_count": 144,
     "metadata": {},
     "output_type": "execute_result"
    }
   ],
   "source": [
    "#identify the best parmaters from the above GridSearchCV\n",
    "\n",
    "grid.best_params_"
   ]
  },
  {
   "cell_type": "code",
   "execution_count": 145,
   "id": "b98e1b23",
   "metadata": {},
   "outputs": [
    {
     "data": {
      "text/html": [
       "<style>#sk-container-id-4 {color: black;}#sk-container-id-4 pre{padding: 0;}#sk-container-id-4 div.sk-toggleable {background-color: white;}#sk-container-id-4 label.sk-toggleable__label {cursor: pointer;display: block;width: 100%;margin-bottom: 0;padding: 0.3em;box-sizing: border-box;text-align: center;}#sk-container-id-4 label.sk-toggleable__label-arrow:before {content: \"▸\";float: left;margin-right: 0.25em;color: #696969;}#sk-container-id-4 label.sk-toggleable__label-arrow:hover:before {color: black;}#sk-container-id-4 div.sk-estimator:hover label.sk-toggleable__label-arrow:before {color: black;}#sk-container-id-4 div.sk-toggleable__content {max-height: 0;max-width: 0;overflow: hidden;text-align: left;background-color: #f0f8ff;}#sk-container-id-4 div.sk-toggleable__content pre {margin: 0.2em;color: black;border-radius: 0.25em;background-color: #f0f8ff;}#sk-container-id-4 input.sk-toggleable__control:checked~div.sk-toggleable__content {max-height: 200px;max-width: 100%;overflow: auto;}#sk-container-id-4 input.sk-toggleable__control:checked~label.sk-toggleable__label-arrow:before {content: \"▾\";}#sk-container-id-4 div.sk-estimator input.sk-toggleable__control:checked~label.sk-toggleable__label {background-color: #d4ebff;}#sk-container-id-4 div.sk-label input.sk-toggleable__control:checked~label.sk-toggleable__label {background-color: #d4ebff;}#sk-container-id-4 input.sk-hidden--visually {border: 0;clip: rect(1px 1px 1px 1px);clip: rect(1px, 1px, 1px, 1px);height: 1px;margin: -1px;overflow: hidden;padding: 0;position: absolute;width: 1px;}#sk-container-id-4 div.sk-estimator {font-family: monospace;background-color: #f0f8ff;border: 1px dotted black;border-radius: 0.25em;box-sizing: border-box;margin-bottom: 0.5em;}#sk-container-id-4 div.sk-estimator:hover {background-color: #d4ebff;}#sk-container-id-4 div.sk-parallel-item::after {content: \"\";width: 100%;border-bottom: 1px solid gray;flex-grow: 1;}#sk-container-id-4 div.sk-label:hover label.sk-toggleable__label {background-color: #d4ebff;}#sk-container-id-4 div.sk-serial::before {content: \"\";position: absolute;border-left: 1px solid gray;box-sizing: border-box;top: 0;bottom: 0;left: 50%;z-index: 0;}#sk-container-id-4 div.sk-serial {display: flex;flex-direction: column;align-items: center;background-color: white;padding-right: 0.2em;padding-left: 0.2em;position: relative;}#sk-container-id-4 div.sk-item {position: relative;z-index: 1;}#sk-container-id-4 div.sk-parallel {display: flex;align-items: stretch;justify-content: center;background-color: white;position: relative;}#sk-container-id-4 div.sk-item::before, #sk-container-id-4 div.sk-parallel-item::before {content: \"\";position: absolute;border-left: 1px solid gray;box-sizing: border-box;top: 0;bottom: 0;left: 50%;z-index: -1;}#sk-container-id-4 div.sk-parallel-item {display: flex;flex-direction: column;z-index: 1;position: relative;background-color: white;}#sk-container-id-4 div.sk-parallel-item:first-child::after {align-self: flex-end;width: 50%;}#sk-container-id-4 div.sk-parallel-item:last-child::after {align-self: flex-start;width: 50%;}#sk-container-id-4 div.sk-parallel-item:only-child::after {width: 0;}#sk-container-id-4 div.sk-dashed-wrapped {border: 1px dashed gray;margin: 0 0.4em 0.5em 0.4em;box-sizing: border-box;padding-bottom: 0.4em;background-color: white;}#sk-container-id-4 div.sk-label label {font-family: monospace;font-weight: bold;display: inline-block;line-height: 1.2em;}#sk-container-id-4 div.sk-label-container {text-align: center;}#sk-container-id-4 div.sk-container {/* jupyter's `normalize.less` sets `[hidden] { display: none; }` but bootstrap.min.css set `[hidden] { display: none !important; }` so we also need the `!important` here to be able to override the default hidden behavior on the sphinx rendered scikit-learn.org. See: https://github.com/scikit-learn/scikit-learn/issues/21755 */display: inline-block !important;position: relative;}#sk-container-id-4 div.sk-text-repr-fallback {display: none;}</style><div id=\"sk-container-id-4\" class=\"sk-top-container\"><div class=\"sk-text-repr-fallback\"><pre>SVC(C=1000, gamma=1)</pre><b>In a Jupyter environment, please rerun this cell to show the HTML representation or trust the notebook. <br />On GitHub, the HTML representation is unable to render, please try loading this page with nbviewer.org.</b></div><div class=\"sk-container\" hidden><div class=\"sk-item\"><div class=\"sk-estimator sk-toggleable\"><input class=\"sk-toggleable__control sk-hidden--visually\" id=\"sk-estimator-id-6\" type=\"checkbox\" checked><label for=\"sk-estimator-id-6\" class=\"sk-toggleable__label sk-toggleable__label-arrow\">SVC</label><div class=\"sk-toggleable__content\"><pre>SVC(C=1000, gamma=1)</pre></div></div></div></div></div>"
      ],
      "text/plain": [
       "SVC(C=1000, gamma=1)"
      ]
     },
     "execution_count": 145,
     "metadata": {},
     "output_type": "execute_result"
    }
   ],
   "source": [
    "#identify the best estimators from the GridSearchCV\n",
    "\n",
    "grid.best_estimator_"
   ]
  },
  {
   "cell_type": "code",
   "execution_count": 146,
   "id": "ff9a6447",
   "metadata": {},
   "outputs": [],
   "source": [
    "#apply the test dataset into the model\n",
    "\n",
    "grid_predictions = grid.predict(X_test_scaled)"
   ]
  },
  {
   "cell_type": "code",
   "execution_count": 147,
   "id": "ba21a2f3",
   "metadata": {},
   "outputs": [
    {
     "name": "stdout",
     "output_type": "stream",
     "text": [
      "[[ 323  152]\n",
      " [ 131 3913]]\n",
      "\n",
      "\n",
      "              precision    recall  f1-score   support\n",
      "\n",
      "           0       0.71      0.68      0.70       475\n",
      "           1       0.96      0.97      0.97      4044\n",
      "\n",
      "    accuracy                           0.94      4519\n",
      "   macro avg       0.84      0.82      0.83      4519\n",
      "weighted avg       0.94      0.94      0.94      4519\n",
      "\n"
     ]
    }
   ],
   "source": [
    "#display the confusion matrix and the classification report from the model results\n",
    "\n",
    "print(confusion_matrix(y_test,grid_predictions))\n",
    "print('\\n')\n",
    "print(classification_report(y_test,grid_predictions))"
   ]
  },
  {
   "cell_type": "markdown",
   "id": "63ee8da0",
   "metadata": {},
   "source": [
    "By applying the best parameters the model was able to significant approve on the Logistical Regression model.\n",
    "\n",
    "**Confusion Matrix**\n",
    "\n",
    "the diagonal top right to bottom left is the false negatives and false positives\n",
    "\n",
    "the opposite top left to bottom right is the true positives and true negatives (correct values)"
   ]
  },
  {
   "cell_type": "code",
   "execution_count": 148,
   "id": "8fc0f7ab",
   "metadata": {},
   "outputs": [
    {
     "data": {
      "image/png": "[encoded data removed]",
      "text/plain": [
       "<Figure size 640x480 with 1 Axes>"
      ]
     },
     "metadata": {},
     "output_type": "display_data"
    }
   ],
   "source": [
    "fpr, tpr, _ = roc_curve(y_test,predictions)  #predictions are the values generated from SVM model\n",
    "\n",
    "plt.figure()\n",
    "plt.plot(fpr, tpr, color='b', lw=2)\n",
    "plt.plot([0, 1], [0, 1], color='gray', linestyle='--')\n",
    "plt.xlabel('False Positive Rate')\n",
    "plt.ylabel('True Positive Rate')\n",
    "plt.title('ROC Curve')\n",
    "plt.show()\n",
    "\n",
    "\n"
   ]
  },
  {
   "cell_type": "markdown",
   "id": "d8dbba08",
   "metadata": {},
   "source": [
    "The ROC curve is visible when compared against the Logistical regression ROC curve"
   ]
  }
 ],
 "metadata": {
  "kernelspec": {
   "display_name": "Python 3 (ipykernel)",
   "language": "python",
   "name": "python3"
  },
  "language_info": {
   "codemirror_mode": {
    "name": "ipython",
    "version": 3
   },
   "file_extension": ".py",
   "mimetype": "text/x-python",
   "name": "python",
   "nbconvert_exporter": "python",
   "pygments_lexer": "ipython3",
   "version": "3.10.9"
  }
 },
 "nbformat": 4,
 "nbformat_minor": 5
}
